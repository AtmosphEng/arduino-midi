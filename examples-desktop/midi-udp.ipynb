{
 "cells": [
  {
   "cell_type": "markdown",
   "metadata": {},
   "source": [
    "## Sending MIDI to the Arduino UDP Server\n",
    "\n",
    "If we have deployed the MidiUDPServer sketch we can send MIDO messages to Arduino:"
   ]
  },
  {
   "cell_type": "code",
   "execution_count": 7,
   "metadata": {},
   "outputs": [
    {
     "name": "stdout",
     "output_type": "stream",
     "text": [
      "note_on channel=6 note=59 velocity=127 time=0\n",
      "note_off channel=6 note=59 velocity=0 time=0\n",
      "note_on channel=6 note=60 velocity=127 time=0\n",
      "note_off channel=6 note=60 velocity=0 time=0\n",
      "note_on channel=6 note=62 velocity=127 time=0\n",
      "note_off channel=6 note=62 velocity=0 time=0\n"
     ]
    }
   ],
   "source": [
    "import mido\n",
    "import socket\n",
    "\n",
    "UDP_IP = \"192.168.1.44\"\n",
    "UDP_PORT = 5008\n",
    "sock = socket.socket(socket.AF_INET, socket.SOCK_DGRAM) \n",
    "\n",
    "inport = mido.open_input('Q61')\n",
    "for msg in inport:\n",
    "    print(msg)\n",
    "    sock.sendto(msg.bin(), (UDP_IP, UDP_PORT))\n"
   ]
  },
  {
   "cell_type": "markdown",
   "metadata": {},
   "source": [
    "## Receiving MIDI from the Arduino UDP Server\n",
    "\n",
    "If we have deployed the MidiUDPServer sketch we can also receive MIDI messages from Arduino:"
   ]
  },
  {
   "cell_type": "code",
   "execution_count": 1,
   "metadata": {},
   "outputs": [
    {
     "ename": "OSError",
     "evalue": "[Errno 49] Can't assign requested address",
     "output_type": "error",
     "traceback": [
      "\u001b[0;31m---------------------------------------------------------------------------\u001b[0m",
      "\u001b[0;31mOSError\u001b[0m                                   Traceback (most recent call last)",
      "\u001b[0;32m<ipython-input-1-c0b627c58674>\u001b[0m in \u001b[0;36m<module>\u001b[0;34m\u001b[0m\n\u001b[1;32m      4\u001b[0m \u001b[0;34m\u001b[0m\u001b[0m\n\u001b[1;32m      5\u001b[0m \u001b[0msock\u001b[0m \u001b[0;34m=\u001b[0m \u001b[0msocket\u001b[0m\u001b[0;34m.\u001b[0m\u001b[0msocket\u001b[0m\u001b[0;34m(\u001b[0m\u001b[0msocket\u001b[0m\u001b[0;34m.\u001b[0m\u001b[0mAF_INET\u001b[0m\u001b[0;34m,\u001b[0m \u001b[0msocket\u001b[0m\u001b[0;34m.\u001b[0m\u001b[0mSOCK_DGRAM\u001b[0m\u001b[0;34m)\u001b[0m\u001b[0;34m\u001b[0m\u001b[0;34m\u001b[0m\u001b[0m\n\u001b[0;32m----> 6\u001b[0;31m \u001b[0msock\u001b[0m\u001b[0;34m.\u001b[0m\u001b[0mbind\u001b[0m\u001b[0;34m(\u001b[0m\u001b[0;34m(\u001b[0m\u001b[0mUDP_IP\u001b[0m\u001b[0;34m,\u001b[0m \u001b[0mUDP_PORT\u001b[0m\u001b[0;34m)\u001b[0m\u001b[0;34m)\u001b[0m\u001b[0;34m\u001b[0m\u001b[0;34m\u001b[0m\u001b[0m\n\u001b[0m\u001b[1;32m      7\u001b[0m \u001b[0;32mwhile\u001b[0m \u001b[0;32mTrue\u001b[0m\u001b[0;34m:\u001b[0m\u001b[0;34m\u001b[0m\u001b[0;34m\u001b[0m\u001b[0m\n\u001b[1;32m      8\u001b[0m     \u001b[0mdata\u001b[0m\u001b[0;34m,\u001b[0m \u001b[0maddr\u001b[0m \u001b[0;34m=\u001b[0m \u001b[0msock\u001b[0m\u001b[0;34m.\u001b[0m\u001b[0mrecvfrom\u001b[0m\u001b[0;34m(\u001b[0m\u001b[0;36m20\u001b[0m\u001b[0;34m)\u001b[0m \u001b[0;31m# buffer size in bytes\u001b[0m\u001b[0;34m\u001b[0m\u001b[0;34m\u001b[0m\u001b[0m\n",
      "\u001b[0;31mOSError\u001b[0m: [Errno 49] Can't assign requested address"
     ]
    }
   ],
   "source": [
    "import mido\n",
    "import socket \n",
    "\n",
    "UDP_IP = \"192.168.1.44\"\n",
    "UDP_PORT = 5008\n",
    "    \n",
    "sock = socket.socket(socket.AF_INET, socket.SOCK_DGRAM) \n",
    "sock.bind((UDP_IP, UDP_PORT))\n",
    "while True:\n",
    "    data, addr = sock.recvfrom(20) # buffer size in bytes\n",
    "    midi = mido.Message.from_bytes(data)\n",
    "    print(midi)"
   ]
  }
 ],
 "metadata": {
  "interpreter": {
   "hash": "aee8b7b246df8f9039afb4144a1f6fd8d2ca17a180786b69acc140d282b71a49"
  },
  "kernelspec": {
   "display_name": "Python 3.9.6 64-bit",
   "language": "python",
   "name": "python3"
  },
  "language_info": {
   "codemirror_mode": {
    "name": "ipython",
    "version": 3
   },
   "file_extension": ".py",
   "mimetype": "text/x-python",
   "name": "python",
   "nbconvert_exporter": "python",
   "pygments_lexer": "ipython3",
   "version": "3.9.6"
  },
  "orig_nbformat": 4
 },
 "nbformat": 4,
 "nbformat_minor": 2
}
